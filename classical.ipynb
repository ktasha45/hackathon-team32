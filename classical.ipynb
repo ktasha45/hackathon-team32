{
  "cells": [
    {
      "cell_type": "markdown",
      "metadata": {
        "id": "Rj1w1Ok5Iqie"
      },
      "source": [
        "* * *"
      ]
    },
    {
      "cell_type": "code",
      "source": [
        "from google.colab import drive\n",
        "drive.mount('/gdrive')"
      ],
      "metadata": {
        "colab": {
          "base_uri": "https://localhost:8080/"
        },
        "id": "iT72a-b4EYKr",
        "outputId": "9243e35a-fe1b-4215-d8eb-0cf6a29d5f5e"
      },
      "execution_count": 1,
      "outputs": [
        {
          "output_type": "stream",
          "name": "stdout",
          "text": [
            "Drive already mounted at /gdrive; to attempt to forcibly remount, call drive.mount(\"/gdrive\", force_remount=True).\n"
          ]
        }
      ]
    },
    {
      "cell_type": "code",
      "source": [
        "!ls -al /gdrive/MyDrive/tmp/hamm.zip\n",
        "!cp /gdrive/MyDrive/tmp/hamm.zip ./\n",
        "!unzip hamm.zip"
      ],
      "metadata": {
        "colab": {
          "base_uri": "https://localhost:8080/"
        },
        "id": "SgRG9glIEYtX",
        "outputId": "e8e125f5-339e-4f8d-80eb-cef7191d89af"
      },
      "execution_count": null,
      "outputs": [
        {
          "output_type": "stream",
          "name": "stdout",
          "text": [
            "-rw------- 1 root root 308385 Feb 10 05:24 /gdrive/MyDrive/tmp/hamm.zip\n",
            "Archive:  hamm.zip\n",
            "replace han/test/a test/g_39_10.jpg? [y]es, [n]o, [A]ll, [N]one, [r]ename: "
          ]
        }
      ]
    },
    {
      "cell_type": "code",
      "source": [
        "!pip install qiskit\n",
        "!pip uninstall qiskit\n",
        "!pip install qiskit"
      ],
      "metadata": {
        "id": "WA_dvtRAEZ2w"
      },
      "execution_count": null,
      "outputs": []
    },
    {
      "cell_type": "code",
      "source": [
        "!pip install qiskit_machine_learning"
      ],
      "metadata": {
        "id": "jZM6q6qgFJuY"
      },
      "execution_count": null,
      "outputs": []
    },
    {
      "cell_type": "code",
      "execution_count": null,
      "metadata": {
        "id": "eco5vjcqD-tI"
      },
      "outputs": [],
      "source": [
        "# from qiskit import IBMQ\n",
        "\n",
        "# IBMQ.save_account('8753dbfc0b9bc444e4a02ada38925616a1f4f72fabf2e1e5f681715f178bcfa3faa92433ccfc0a18daf82ec44ff21fe1ce9dd4ce329b9b18e0de10119d34b481')\n",
        "# IBMQ.load_account()\n",
        "# provider = IBMQ.get_provider(hub='ibm-q-education', group='ibm-3')\n",
        "# provider.backends()\n",
        "# # backend = provider.get_backend('')"
      ]
    },
    {
      "cell_type": "code",
      "execution_count": 1,
      "metadata": {
        "id": "JSYJC5ZKMJ-k"
      },
      "outputs": [],
      "source": [
        "import numpy as np\n",
        "import matplotlib.pyplot as plt\n",
        "\n",
        "import torch\n",
        "from torch.autograd import Function\n",
        "from torchvision import datasets, transforms\n",
        "import torch.optim as optim\n",
        "import torch.nn as nn\n",
        "import torch.nn.functional as F\n",
        "\n",
        "import qiskit\n",
        "from qiskit import transpile, assemble\n",
        "from qiskit.visualization import *\n",
        "\n",
        "import matplotlib.pyplot as plt\n",
        "from torchvision.transforms.functional import to_pil_image\n",
        "\n",
        "from pathlib import Path\n",
        "import numpy as np\n",
        "import pandas as pd\n",
        "from PIL import Image\n",
        "import sklearn\n",
        "from sklearn.model_selection import train_test_split\n",
        "\n",
        "import torchvision\n",
        "from torchvision import transforms\n",
        "\n",
        "import matplotlib.pyplot as plt\n",
        "from torchvision.transforms.functional import to_pil_image"
      ]
    },
    {
      "cell_type": "code",
      "execution_count": 2,
      "metadata": {
        "id": "ZwI5dnpkUiJn"
      },
      "outputs": [],
      "source": [
        "# if torch.cuda.is_available():\n",
        "#     DEVICE = torch.device('cuda')\n",
        "# else:\n",
        "#     DEVICE = torch.device('cpu')\n",
        "# print('Using PyTorch version:', torch.__version__, ' Device:', DEVICE)\n",
        "# print('cuda index:', torch.cuda.current_device())\n",
        "# print('GPU 이름:', torch.cuda.get_device_name())"
      ]
    },
    {
      "cell_type": "code",
      "execution_count": 3,
      "metadata": {
        "colab": {
          "base_uri": "https://localhost:8080/",
          "height": 375
        },
        "id": "PQUfTaxcNWiU",
        "outputId": "1a840f5a-080c-40bb-cd5f-e99bb6cfc080"
      },
      "outputs": [
        {
          "output_type": "stream",
          "name": "stdout",
          "text": [
            "tensor(1)\n",
            "<built-in method type of Tensor object at 0x7f2eec000350>\n",
            "349\n",
            "51\n",
            "torch.Size([32, 3, 28, 28])\n"
          ]
        },
        {
          "output_type": "execute_result",
          "data": {
            "text/plain": [
              "<matplotlib.image.AxesImage at 0x7f2d9a87bb90>"
            ]
          },
          "metadata": {},
          "execution_count": 3
        },
        {
          "output_type": "display_data",
          "data": {
            "image/png": "[encoded data removed]",
            "text/plain": [
              "<Figure size 432x288 with 1 Axes>"
            ]
          },
          "metadata": {
            "needs_background": "light"
          }
        }
      ],
      "source": [
        "trans = transforms.Compose([transforms.ToTensor()])\n",
        "train_dataset = torchvision.datasets.ImageFolder(root = \"/content/han/train\", transform=transforms.ToTensor())\n",
        "test_dataset = torchvision.datasets.ImageFolder(root = \"/content/han/test\", transform=transforms.ToTensor())\n",
        "\n",
        "from torch.utils.data import DataLoader\n",
        "\n",
        "train_loader = DataLoader(train_dataset, batch_size=32, shuffle=True)\n",
        "test_loader = DataLoader(test_dataset, batch_size=32, shuffle=True)\n",
        "\n",
        "import torch.nn.functional as F\n",
        "\n",
        "train_iter = iter(train_loader)\n",
        "images, labels = train_iter.next()\n",
        "labels = F.one_hot(labels % 5)\n",
        "print(labels[0][0])\n",
        "print(labels[0][0].type)\n",
        "print(len(train_dataset))\n",
        "print(len(test_dataset))\n",
        "\n",
        "print(images.shape)\n",
        "plt.imshow(images[0, 1, :, :])"
      ]
    },
    {
      "cell_type": "code",
      "execution_count": 4,
      "metadata": {
        "id": "SkMIEu1_pvdK"
      },
      "outputs": [],
      "source": [
        "import torch.nn.functional as F\n",
        "from qiskit.circuit.random import random_circuit"
      ]
    },
    {
      "cell_type": "code",
      "execution_count": 5,
      "metadata": {
        "id": "z2HWsPVhpxlZ"
      },
      "outputs": [],
      "source": [
        "from torch import cat, no_grad, manual_seed\n",
        "from torch.utils.data import DataLoader\n",
        "from torchvision import datasets, transforms\n",
        "import torch.optim as optim\n",
        "from torch.nn import (\n",
        "    Module,\n",
        "    Conv2d,\n",
        "    Linear,\n",
        "    Dropout2d,\n",
        "    NLLLoss,\n",
        "    MaxPool2d,\n",
        "    Flatten,\n",
        "    Sequential,\n",
        "    ReLU,\n",
        "    CrossEntropyLoss,\n",
        "    ELU\n",
        ")"
      ]
    },
    {
      "cell_type": "code",
      "execution_count": 6,
      "metadata": {
        "id": "aAbS4H4Np-zZ"
      },
      "outputs": [],
      "source": [
        "import numpy as np\n",
        "import matplotlib.pyplot as plt\n",
        "\n",
        "from torch import Tensor\n",
        "from torch.nn import Linear, CrossEntropyLoss, MSELoss\n",
        "from torch.optim import LBFGS\n",
        "\n",
        "from qiskit import Aer, QuantumCircuit\n",
        "from qiskit.utils import QuantumInstance, algorithm_globals\n",
        "from qiskit.opflow import AerPauliExpectation\n",
        "from qiskit.circuit import Parameter\n",
        "from qiskit.circuit.library import RealAmplitudes, ZZFeatureMap, PauliFeatureMap, TwoLocal\n",
        "from qiskit_machine_learning.neural_networks import CircuitQNN, TwoLayerQNN\n",
        "from qiskit_machine_learning.connectors import TorchConnector"
      ]
    },
    {
      "cell_type": "code",
      "execution_count": 7,
      "metadata": {
        "id": "Uaal7BHZqUkL"
      },
      "outputs": [],
      "source": [
        "# declare quantum instance\n",
        "qi = QuantumInstance(Aer.get_backend(\"aer_simulator_statevector\"))"
      ]
    },
    {
      "cell_type": "code",
      "execution_count": 8,
      "metadata": {
        "colab": {
          "base_uri": "https://localhost:8080/"
        },
        "id": "4i_MSN0Mp3hj",
        "outputId": "74b6b8aa-cc0a-4e83-b017-d3c06e40ec2c"
      },
      "outputs": [
        {
          "output_type": "stream",
          "name": "stdout",
          "text": [
            "ComposedOp([\n",
            "  OperatorMeasurement(1.0 * ZZ),\n",
            "  CircuitStateFn(\n",
            "       ┌──────────────────────────┐┌──────────────────────────────────────┐\n",
            "  q_0: ┤0                         ├┤0                                     ├\n",
            "       │  ZZFeatureMap(x[0],x[1]) ││  RealAmplitudes(θ[0],θ[1],θ[2],θ[3]) │\n",
            "  q_1: ┤1                         ├┤1                                     ├\n",
            "       └──────────────────────────┘└──────────────────────────────────────┘\n",
            "  )\n",
            "])\n"
          ]
        }
      ],
      "source": [
        "# Define QNN\n",
        "feature_map = ZZFeatureMap(2)\n",
        "ansatz = RealAmplitudes(2, reps=1)\n",
        "# REMEMBER TO SET input_gradients=True FOR ENABLING HYBRID GRADIENT BACKPROP\n",
        "qnn4 = TwoLayerQNN(\n",
        "    2, feature_map, ansatz, input_gradients=True, exp_val=AerPauliExpectation(), quantum_instance=qi\n",
        ")\n",
        "print(qnn4.operator)"
      ]
    },
    {
      "cell_type": "code",
      "execution_count": 9,
      "metadata": {
        "id": "6eTgmxrKaBoJ"
      },
      "outputs": [],
      "source": [
        "class Net(Module):\n",
        "    def __init__(self):\n",
        "        super().__init__()\n",
        "        self.conv1 = Conv2d(1, 2, kernel_size=3, stride=1)\n",
        "#         self.conv2 = Conv2d(5, 10, kernel_size=3, stride=1)\n",
        "#         self.conv3 = Conv2d(16, 32, kernel_size=3, stride=1, padding='same')\n",
        "#         self.dropout = Dropout2d()\n",
        "        self.fc1 = Linear(338, 16) # have to change\n",
        "        self.fc2 = Linear(16, 8)\n",
        "        self.fc3 = Linear(8, 5)\n",
        "        self.elu = ELU()\n",
        "\n",
        "    def forward(self, x):\n",
        "        x = F.elu(self.conv1(x))\n",
        "        x = F.max_pool2d(x, 2)\n",
        "#         x = F.relu(self.conv2(x))\n",
        "#         x = F.max_pool2d(x, 2)\n",
        "#         x = F.relu(self.conv3(x))\n",
        "#         x = F.max_pool2d(x, 2)\n",
        "#         x = self.dropout(x)\n",
        "        x = x.view(x.shape[0], -1)\n",
        "        x = self.elu(self.fc1(x))\n",
        "        x = self.elu(self.fc2(x))\n",
        "        x = self.fc3(x)\n",
        "        x = self.elu(x)\n",
        "        return x\n",
        "\n",
        "\n",
        "model_qcnn = Net()"
      ]
    },
    {
      "cell_type": "code",
      "execution_count": 10,
      "metadata": {
        "colab": {
          "base_uri": "https://localhost:8080/"
        },
        "id": "k-SB77wTCCKV",
        "outputId": "82d63d69-97cb-4351-b1da-e09eec7448b9"
      },
      "outputs": [
        {
          "output_type": "stream",
          "name": "stdout",
          "text": [
            "----------------------------------------------------------------\n",
            "        Layer (type)               Output Shape         Param #\n",
            "================================================================\n",
            "            Conv2d-1            [-1, 2, 26, 26]              20\n",
            "            Linear-2                   [-1, 16]           5,424\n",
            "               ELU-3                   [-1, 16]               0\n",
            "            Linear-4                    [-1, 8]             136\n",
            "               ELU-5                    [-1, 8]               0\n",
            "            Linear-6                    [-1, 5]              45\n",
            "               ELU-7                    [-1, 5]               0\n",
            "================================================================\n",
            "Total params: 5,625\n",
            "Trainable params: 5,625\n",
            "Non-trainable params: 0\n",
            "----------------------------------------------------------------\n",
            "Input size (MB): 0.00\n",
            "Forward/backward pass size (MB): 0.01\n",
            "Params size (MB): 0.02\n",
            "Estimated Total Size (MB): 0.04\n",
            "----------------------------------------------------------------\n"
          ]
        }
      ],
      "source": [
        "from torchsummary import summary\n",
        "summary(model_qcnn, input_size=(1, 28, 28))"
      ]
    },
    {
      "cell_type": "code",
      "execution_count": 11,
      "metadata": {
        "id": "fYqy8YjH8Pdh",
        "scrolled": false,
        "colab": {
          "base_uri": "https://localhost:8080/"
        },
        "outputId": "42cee462-f67f-4c03-c216-62f26f986516"
      },
      "outputs": [
        {
          "output_type": "stream",
          "name": "stdout",
          "text": [
            "Training [1%]\tLoss: 1.8406\n",
            "Training [2%]\tLoss: 1.4681\n",
            "Training [3%]\tLoss: 1.2656\n",
            "Training [4%]\tLoss: 1.2822\n",
            "Training [5%]\tLoss: 1.2894\n",
            "Training [6%]\tLoss: 1.2025\n",
            "Training [7%]\tLoss: 1.0891\n",
            "Training [8%]\tLoss: 1.0408\n",
            "Training [9%]\tLoss: 1.0464\n",
            "Training [10%]\tLoss: 0.9441\n",
            "Training [11%]\tLoss: 0.9194\n",
            "Training [12%]\tLoss: 0.8131\n",
            "Training [13%]\tLoss: 0.7090\n",
            "Training [14%]\tLoss: 0.6211\n",
            "Training [15%]\tLoss: 0.5774\n",
            "Training [16%]\tLoss: 0.4931\n",
            "Training [17%]\tLoss: 0.3703\n",
            "Training [18%]\tLoss: 0.4066\n",
            "Training [19%]\tLoss: 0.2363\n",
            "Training [20%]\tLoss: 0.1992\n",
            "Training [21%]\tLoss: 0.1590\n",
            "Training [22%]\tLoss: 0.1261\n",
            "Training [23%]\tLoss: 0.1101\n",
            "Training [24%]\tLoss: 0.7990\n",
            "Training [25%]\tLoss: 0.6848\n",
            "Training [26%]\tLoss: 0.5062\n",
            "Training [27%]\tLoss: 0.2726\n",
            "Training [28%]\tLoss: 0.2150\n",
            "Training [29%]\tLoss: 0.1249\n",
            "Training [30%]\tLoss: 0.0718\n",
            "Training [31%]\tLoss: 0.0996\n",
            "Training [32%]\tLoss: 0.0672\n",
            "Training [33%]\tLoss: 0.0891\n",
            "Training [34%]\tLoss: 0.0778\n",
            "Training [35%]\tLoss: 0.1542\n",
            "Training [36%]\tLoss: 0.1095\n",
            "Training [37%]\tLoss: 0.0989\n",
            "Training [38%]\tLoss: 0.1137\n",
            "Training [39%]\tLoss: 0.0588\n",
            "Training [40%]\tLoss: 0.0775\n",
            "Training [41%]\tLoss: 0.0634\n",
            "Training [42%]\tLoss: 0.0920\n",
            "Training [43%]\tLoss: 0.0441\n",
            "Training [44%]\tLoss: 0.0603\n",
            "Training [45%]\tLoss: 0.0503\n",
            "Training [46%]\tLoss: 0.0812\n",
            "Training [47%]\tLoss: 0.1260\n",
            "Training [48%]\tLoss: 0.1378\n",
            "Training [49%]\tLoss: 0.1207\n",
            "Training [50%]\tLoss: 0.1950\n",
            "Training [51%]\tLoss: 0.2114\n",
            "Training [52%]\tLoss: 0.2065\n",
            "Training [53%]\tLoss: 0.4222\n",
            "Training [54%]\tLoss: 0.4440\n",
            "Training [55%]\tLoss: 0.1589\n",
            "Training [56%]\tLoss: 0.0771\n",
            "Training [57%]\tLoss: 0.1535\n",
            "Training [58%]\tLoss: 0.2160\n",
            "Training [59%]\tLoss: 0.0993\n",
            "Training [60%]\tLoss: 0.0746\n",
            "Training [61%]\tLoss: 0.0599\n",
            "Training [62%]\tLoss: 0.0825\n",
            "Training [63%]\tLoss: 0.0682\n",
            "Training [64%]\tLoss: 0.0553\n",
            "Training [65%]\tLoss: 0.0717\n",
            "Training [66%]\tLoss: 0.0462\n",
            "Training [67%]\tLoss: 0.0669\n",
            "Training [68%]\tLoss: 0.0447\n",
            "Training [69%]\tLoss: 0.0399\n",
            "Training [70%]\tLoss: 0.0559\n",
            "Training [71%]\tLoss: 0.0551\n",
            "Training [72%]\tLoss: 0.0478\n",
            "Training [73%]\tLoss: 0.0394\n",
            "Training [74%]\tLoss: 0.0477\n",
            "Training [75%]\tLoss: 0.0402\n",
            "Training [76%]\tLoss: 0.0378\n",
            "Training [77%]\tLoss: 0.0384\n",
            "Training [78%]\tLoss: 0.0371\n",
            "Training [79%]\tLoss: 0.0367\n",
            "Training [80%]\tLoss: 0.0230\n",
            "Training [81%]\tLoss: 0.0357\n",
            "Training [82%]\tLoss: 0.0398\n",
            "Training [83%]\tLoss: 0.0389\n",
            "Training [84%]\tLoss: 0.0370\n",
            "Training [85%]\tLoss: 0.0368\n",
            "Training [86%]\tLoss: 0.0367\n",
            "Training [87%]\tLoss: 0.0356\n",
            "Training [88%]\tLoss: 0.0560\n",
            "Training [89%]\tLoss: 0.0367\n",
            "Training [90%]\tLoss: 0.0377\n",
            "Training [91%]\tLoss: 0.0277\n",
            "Training [92%]\tLoss: 0.0308\n",
            "Training [93%]\tLoss: 0.0281\n",
            "Training [94%]\tLoss: 0.0278\n",
            "Training [95%]\tLoss: 0.0276\n",
            "Training [96%]\tLoss: 0.0286\n",
            "Training [97%]\tLoss: 0.0270\n",
            "Training [98%]\tLoss: 0.0273\n",
            "Training [99%]\tLoss: 0.0281\n",
            "Training [100%]\tLoss: 0.0282\n"
          ]
        }
      ],
      "source": [
        "# Define model, optimizer, and loss function\n",
        "optimizer = optim.Adam(model_qcnn.parameters(), lr=0.05) #change learning rate!\n",
        "loss_func = CrossEntropyLoss()\n",
        "\n",
        "DEVICE = torch.device('cpu')\n",
        "\n",
        "# Start training\n",
        "epochs = 100 #number of epochs\n",
        "loss_list = []  # Store loss history\n",
        "model_qcnn.train().to(DEVICE)  # Set model to training mode\n",
        "\n",
        "for epoch in range(epochs):\n",
        "    total_loss = []\n",
        "    for batch_idx, (data, target) in enumerate(train_loader):\n",
        "        optimizer.zero_grad(set_to_none=True)  # Initialize gradient\n",
        "        data = data[:, 0, :, :].reshape((-1, 1, 28, 28)).to(DEVICE)\n",
        "        output = model_qcnn(data).to(DEVICE)  # Forward pass\n",
        "        target = F.one_hot(target, num_classes = 5).float().to(DEVICE)\n",
        "#         print(target.shape)\n",
        "#         print(output.shape)\n",
        "#         print(output)\n",
        "#         print(target)\n",
        "#         break\n",
        "        loss = loss_func(output, target).to(DEVICE)  # Calculate loss\n",
        "        loss.backward()  # Backward pass\n",
        "        optimizer.step()  # Optimize weights\n",
        "        total_loss.append(loss.item())  # Store loss\n",
        "    loss_list.append(sum(total_loss) / len(total_loss))\n",
        "    print(\"Training [{:.0f}%]\\tLoss: {:.4f}\".format(100.0 * (epoch + 1) / epochs, loss_list[-1]))"
      ]
    },
    {
      "cell_type": "code",
      "execution_count": 12,
      "metadata": {
        "colab": {
          "base_uri": "https://localhost:8080/",
          "height": 294
        },
        "id": "4qqXv3ZYLcdc",
        "outputId": "78422b6d-08ef-41a5-8d31-b2a3b610842f"
      },
      "outputs": [
        {
          "output_type": "display_data",
          "data": {
            "image/png": "[encoded data removed]",
            "text/plain": [
              "<Figure size 432x288 with 1 Axes>"
            ]
          },
          "metadata": {
            "needs_background": "light"
          }
        }
      ],
      "source": [
        "# Plot loss convergence\n",
        "plt.plot(loss_list)\n",
        "plt.title(\"Hybrid NN Training Convergence\")\n",
        "plt.xlabel(\"Training Iterations\")\n",
        "plt.ylabel(\"Neg. Log Likelihood Loss\")\n",
        "plt.show()"
      ]
    },
    {
      "cell_type": "code",
      "execution_count": 13,
      "metadata": {
        "colab": {
          "base_uri": "https://localhost:8080/"
        },
        "id": "lPNZ0L5qcFTw",
        "outputId": "ea7c0faf-d06d-418b-f813-b4628e5acb28"
      },
      "outputs": [
        {
          "output_type": "stream",
          "name": "stdout",
          "text": [
            "Performance on test data:\n",
            "\tLoss: 3.2170\n",
            "\tAccuracy: 73.4%\n"
          ]
        }
      ],
      "source": [
        "model_qcnn.eval() # set model to evaluation mode\n",
        "with no_grad():\n",
        "\n",
        "    correct = 0\n",
        "    for batch_idx, (data, target) in enumerate(test_loader):\n",
        "        output = model_qcnn(data[:, 0, :, :].reshape((-1, 1, 28, 28)) * 255)\n",
        "        \n",
        "        if len(output.shape) == 1:\n",
        "            output = output.reshape(1, *output.shape)\n",
        "\n",
        "        pred = output.argmax(dim=1, keepdim=True)\n",
        "        correct += pred.eq(target.view_as(pred)).sum().item()\n",
        "\n",
        "        loss = loss_func(output, target)\n",
        "        total_loss.append(loss.item())\n",
        "\n",
        "    print(\n",
        "        \"Performance on test data:\\n\\tLoss: {:.4f}\\n\\tAccuracy: {:.1f}%\".format(\n",
        "            sum(total_loss) / len(total_loss), correct / len(test_loader) / 32 * 100\n",
        "        )\n",
        "    )"
      ]
    },
    {
      "cell_type": "code",
      "execution_count": 14,
      "metadata": {
        "id": "WSyZQ6sCsc7y",
        "colab": {
          "base_uri": "https://localhost:8080/",
          "height": 214
        },
        "outputId": "d660cba6-24e9-4f89-e7cd-bf7b89c97fd2"
      },
      "outputs": [
        {
          "output_type": "display_data",
          "data": {
            "image/png": "[encoded data removed]",
            "text/plain": [
              "<Figure size 720x216 with 16 Axes>"
            ]
          },
          "metadata": {
            "needs_background": "light"
          }
        }
      ],
      "source": [
        "count = 0\n",
        "fig, axes = plt.subplots(nrows=1, ncols=16, figsize=(10, 3))\n",
        "\n",
        "model_qcnn.eval()\n",
        "with no_grad():\n",
        "    for batch_idx, (data, target) in enumerate(test_loader):\n",
        "        if count == 16:\n",
        "            break\n",
        "        output = model_qcnn(data[:, 0, :, :].reshape((-1, 1, 28, 28)) * 255)\n",
        "        if len(output.shape) == 1:\n",
        "            output = output.reshape(1, *output.shape)\n",
        "\n",
        "        pred = output.argmax(dim=1, keepdim=True)\n",
        "\n",
        "        axes[count].imshow(data[0, 0, :, :].numpy().squeeze(), cmap=\"gray\")\n",
        "\n",
        "        axes[count].set_xticks([])\n",
        "        axes[count].set_yticks([])\n",
        "        axes[count].set_title(pred[count][0].item())\n",
        "\n",
        "        count += 1"
      ]
    },
    {
      "cell_type": "code",
      "execution_count": 15,
      "metadata": {
        "colab": {
          "base_uri": "https://localhost:8080/"
        },
        "id": "tv6_wgioD-tZ",
        "outputId": "17105a23-7ab0-4b31-9350-f968a055cbb9"
      },
      "outputs": [
        {
          "output_type": "stream",
          "name": "stdout",
          "text": [
            "{'qiskit-terra': '0.19.2', 'qiskit-aer': '0.10.3', 'qiskit-ignis': '0.7.0', 'qiskit-ibmq-provider': '0.18.3', 'qiskit-aqua': None, 'qiskit': '0.34.2', 'qiskit-nature': None, 'qiskit-finance': None, 'qiskit-optimization': None, 'qiskit-machine-learning': '0.3.0'}\n"
          ]
        }
      ],
      "source": [
        "print(qiskit.__qiskit_version__)"
      ]
    },
    {
      "cell_type": "code",
      "execution_count": null,
      "metadata": {
        "id": "6RwGT4RiD-tZ"
      },
      "outputs": [],
      "source": [
        ""
      ]
    }
  ],
  "metadata": {
    "colab": {
      "collapsed_sections": [],
      "name": "aaaaaa.ipynb",
      "provenance": []
    },
    "kernelspec": {
      "display_name": "Python 3 (ipykernel)",
      "language": "python",
      "name": "python3"
    },
    "language_info": {
      "codemirror_mode": {
        "name": "ipython",
        "version": 3
      },
      "file_extension": ".py",
      "mimetype": "text/x-python",
      "name": "python",
      "nbconvert_exporter": "python",
      "pygments_lexer": "ipython3",
      "version": "3.9.7"
    }
  },
  "nbformat": 4,
  "nbformat_minor": 0
}